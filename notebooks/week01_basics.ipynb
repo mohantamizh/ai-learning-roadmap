{
 "cells": [
  {
   "cell_type": "code",
   "execution_count": null,
   "id": "6ffb6526",
   "metadata": {
    "vscode": {
     "languageId": "plaintext"
    }
   },
   "outputs": [],
   "source": [
    "# Week 1 — Python Basics\n",
    "\n",
    "# Variables & Data Types\n",
    "name = \"Mohankumar\"\n",
    "age = 25\n",
    "is_learning_ai = True\n",
    "\n",
    "print(f\"Hello {name}, age {age}, learning AI: {is_learning_ai}\")\n",
    "\n",
    "# Loops\n",
    "for i in range(1, 4):\n",
    "    print(f\"Loop iteration {i}\")\n",
    "\n",
    "# Functions\n",
    "def fun_fact(topic):\n",
    "    return f\"Did you know? The field of {topic} is growing super fast!\"\n",
    "\n",
    "print(fun_fact(\"Artificial Intelligence\"))\n"
   ]
  }
 ],
 "metadata": {
  "language_info": {
   "name": "python"
  }
 },
 "nbformat": 4,
 "nbformat_minor": 5
}
