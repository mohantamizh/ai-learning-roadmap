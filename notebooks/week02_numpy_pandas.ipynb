{
 "cells": [
  {
   "cell_type": "code",
   "execution_count": null,
   "id": "0a1271db",
   "metadata": {
    "vscode": {
     "languageId": "plaintext"
    }
   },
   "outputs": [],
   "source": [
    "# Week 2 — NumPy & Pandas Basics\n",
    "\n",
    "import numpy as np\n",
    "import pandas as pd\n",
    "\n",
    "# --- NumPy Basics ---\n",
    "# Create an array\n",
    "arr = np.array([1, 2, 3, 4, 5])\n",
    "print(\"NumPy Array:\", arr)\n",
    "\n",
    "# Element-wise operations\n",
    "print(\"Array + 10:\", arr + 10)\n",
    "\n",
    "# 2D Array\n",
    "matrix = np.array([[1, 2], [3, 4]])\n",
    "print(\"Matrix shape:\", matrix.shape)\n",
    "print(\"Matrix transposed:\\n\", matrix.T)\n",
    "\n",
    "# --- Pandas Basics ---\n",
    "# Create a simple DataFrame\n",
    "data = {\n",
    "    'Name': ['Alice', 'Bob', 'Charlie'],\n",
    "    'Score': [85, 92, 78]\n",
    "}\n",
    "df = pd.DataFrame(data)\n",
    "print(\"\\nDataFrame:\\n\", df)\n",
    "\n",
    "# Basic statistics\n",
    "print(\"\\nAverage score:\", df['Score'].mean())\n",
    "\n",
    "# Load a CSV file (replace 'movies.csv' with your file path)\n",
    "# movies_df = pd.read_csv('data/raw/movies.csv')\n",
    "# print(movies_df.head())\n",
    "\n",
    "# --- Mini Challenge ---\n",
    "# Create a DataFrame of 5 products with name, price, and quantity\n",
    "# Calculate total value for each product\n"
   ]
  }
 ],
 "metadata": {
  "language_info": {
   "name": "python"
  }
 },
 "nbformat": 4,
 "nbformat_minor": 5
}
